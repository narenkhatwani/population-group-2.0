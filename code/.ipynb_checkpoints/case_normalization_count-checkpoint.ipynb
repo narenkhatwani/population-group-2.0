{
 "cells": [
  {
   "cell_type": "markdown",
   "id": "9a2f749d",
   "metadata": {},
   "source": [
    "This script analyzes the `Top_Keywords_and_Counts` column in the output CSV to detect inconsistencies in keyword casing and whitespace."
   ]
  },
  {
   "cell_type": "code",
   "execution_count": 1,
   "id": "4b138bfb",
   "metadata": {},
   "outputs": [
    {
     "name": "stdout",
     "output_type": "stream",
     "text": [
      "Number of inconsistent keyword groups: 23\n",
      "Total number of variant forms across all groups: 46\n"
     ]
    },
    {
     "name": "stderr",
     "output_type": "stream",
     "text": [
      "/Users/narenkhatwani/anaconda3/lib/python3.10/site-packages/pandas/core/arrays/masked.py:60: UserWarning: Pandas requires version '1.3.6' or newer of 'bottleneck' (version '1.3.5' currently installed).\n",
      "  from pandas.core import (\n"
     ]
    }
   ],
   "source": [
    "import pandas as pd\n",
    "from collections import Counter\n",
    "\n",
    "# Load and clean keyword data\n",
    "df = pd.read_csv(\"../data/semantic_network_umls_terms_final_with_keywords.csv\", usecols=[\"Top_Keywords_and_Counts\"])\n",
    "df = df.dropna(subset=[\"Top_Keywords_and_Counts\"])\n",
    "\n",
    "# Extract raw keywords from each row\n",
    "all_keywords = []\n",
    "for row in df[\"Top_Keywords_and_Counts\"]:\n",
    "    for pair in row.split(\";\"):\n",
    "        if \":\" in pair:\n",
    "            keyword = pair.split(\":\")[0].strip()\n",
    "            all_keywords.append(keyword)\n",
    "\n",
    "# Count original and normalized forms\n",
    "original_counter = Counter(all_keywords)\n",
    "normalized_keywords = [kw.lower().strip() for kw in all_keywords]\n",
    "normalized_counter = Counter(normalized_keywords)\n",
    "\n",
    "# Track inconsistencies\n",
    "inconsistent_groups = 0\n",
    "total_variant_count = 0\n",
    "\n",
    "for norm_kw in normalized_counter:\n",
    "    variants = [kw for kw in original_counter if kw.lower().strip() == norm_kw]\n",
    "    if len(variants) > 1:\n",
    "        inconsistent_groups += 1\n",
    "        total_variant_count += len(variants)\n",
    "\n",
    "print(f\"Number of inconsistent keyword groups: {inconsistent_groups}\")\n",
    "print(f\"Total number of variant forms across all groups: {total_variant_count}\")"
   ]
  },
  {
   "cell_type": "markdown",
   "id": "5726e3ea",
   "metadata": {},
   "source": [
    "If you see here, the count is not significant considering there are >500 keywords. Hence, we are not considering case sensitivity in our main code for the intersection between keywords"
   ]
  },
  {
   "cell_type": "code",
   "execution_count": null,
   "id": "71845fa9",
   "metadata": {},
   "outputs": [],
   "source": []
  }
 ],
 "metadata": {
  "kernelspec": {
   "display_name": "Python 3 (ipykernel)",
   "language": "python",
   "name": "python3"
  },
  "language_info": {
   "codemirror_mode": {
    "name": "ipython",
    "version": 3
   },
   "file_extension": ".py",
   "mimetype": "text/x-python",
   "name": "python",
   "nbconvert_exporter": "python",
   "pygments_lexer": "ipython3",
   "version": "3.10.9"
  }
 },
 "nbformat": 4,
 "nbformat_minor": 5
}
